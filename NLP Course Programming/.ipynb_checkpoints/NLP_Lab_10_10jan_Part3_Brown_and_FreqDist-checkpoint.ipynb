{
 "cells": [
  {
   "cell_type": "code",
   "execution_count": 1,
   "metadata": {},
   "outputs": [
    {
     "data": {
      "text/plain": [
       "FreqDist({'the': 6386, ',': 5188, '.': 4030, 'of': 2861, 'and': 2186, 'to': 2144, 'a': 2130, 'in': 2020, 'for': 969, 'that': 829, ...})"
      ]
     },
     "execution_count": 1,
     "metadata": {},
     "output_type": "execute_result"
    }
   ],
   "source": [
    "#The FreqDist class is used to encode “frequency distributions”, which count the number of times that each outcome of an experiment occurs.\n",
    "import nltk\n",
    "from nltk.corpus import brown\n",
    "news_text = brown.words(categories='news')\n",
    "fdist = nltk.FreqDist(w.lower() for w in news_text) #stores the words in lower case with the count of occurrences\n",
    "fdist"
   ]
  },
  {
   "cell_type": "code",
   "execution_count": 2,
   "metadata": {},
   "outputs": [
    {
     "data": {
      "text/plain": [
       "[('the', 6386),\n",
       " (',', 5188),\n",
       " ('.', 4030),\n",
       " ('of', 2861),\n",
       " ('and', 2186),\n",
       " ('to', 2144),\n",
       " ('a', 2130),\n",
       " ('in', 2020),\n",
       " ('for', 969),\n",
       " ('that', 829),\n",
       " ('is', 733),\n",
       " ('``', 732),\n",
       " ('was', 717),\n",
       " (\"''\", 702),\n",
       " ('on', 691)]"
      ]
     },
     "execution_count": 2,
     "metadata": {},
     "output_type": "execute_result"
    }
   ],
   "source": [
    "fdist.most_common(15) #finds the 15 most frequent words"
   ]
  },
  {
   "cell_type": "code",
   "execution_count": 5,
   "metadata": {},
   "outputs": [
    {
     "data": {
      "text/plain": [
       "21"
      ]
     },
     "execution_count": 5,
     "metadata": {},
     "output_type": "execute_result"
    }
   ],
   "source": [
    "fdist['trial'] #finds the number of times trial is present in news_text"
   ]
  }
 ],
 "metadata": {
  "kernelspec": {
   "display_name": "Python 3",
   "language": "python",
   "name": "python3"
  },
  "language_info": {
   "codemirror_mode": {
    "name": "ipython",
    "version": 3
   },
   "file_extension": ".py",
   "mimetype": "text/x-python",
   "name": "python",
   "nbconvert_exporter": "python",
   "pygments_lexer": "ipython3",
   "version": "3.7.6"
  }
 },
 "nbformat": 4,
 "nbformat_minor": 2
}
