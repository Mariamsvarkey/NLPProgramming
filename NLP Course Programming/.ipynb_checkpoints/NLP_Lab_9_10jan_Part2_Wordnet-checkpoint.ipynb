{
 "cells": [
  {
   "cell_type": "code",
   "execution_count": 29,
   "metadata": {},
   "outputs": [
    {
     "data": {
      "text/plain": [
       "[Synset('car.n.01')]"
      ]
     },
     "execution_count": 29,
     "metadata": {},
     "output_type": "execute_result"
    }
   ],
   "source": [
    "import nltk\n",
    "from nltk.corpus import wordnet as wn\n",
    "wn.synsets('motorcar') # you get an id for subsets\n",
    "#if you put mutiple here, it does not get printed"
   ]
  },
  {
   "cell_type": "code",
   "execution_count": 30,
   "metadata": {},
   "outputs": [
    {
     "data": {
      "text/plain": [
       "[Synset('cunning.s.01'), Synset('cute.s.02')]"
      ]
     },
     "execution_count": 30,
     "metadata": {},
     "output_type": "execute_result"
    }
   ],
   "source": [
    "wn.synsets('cute') # you get an id for subsets"
   ]
  },
  {
   "cell_type": "code",
   "execution_count": 31,
   "metadata": {},
   "outputs": [
    {
     "data": {
      "text/plain": [
       "[Synset('flower.n.01'),\n",
       " Synset('flower.n.02'),\n",
       " Synset('flower.n.03'),\n",
       " Synset('bloom.v.01')]"
      ]
     },
     "execution_count": 31,
     "metadata": {},
     "output_type": "execute_result"
    }
   ],
   "source": [
    "wn.synsets('flower')"
   ]
  },
  {
   "cell_type": "code",
   "execution_count": 32,
   "metadata": {
    "scrolled": true
   },
   "outputs": [
    {
     "name": "stdout",
     "output_type": "stream",
     "text": [
      "flower\n",
      "flower\n",
      "bloom\n",
      "blossom\n",
      "flower\n",
      "prime\n",
      "peak\n",
      "heyday\n",
      "bloom\n",
      "blossom\n",
      "efflorescence\n",
      "flush\n",
      "bloom\n",
      "blossom\n",
      "flower\n"
     ]
    }
   ],
   "source": [
    "for synset in wn.synsets('flower'):\n",
    "    for lemma in synset.lemmas():\n",
    "        print(lemma.name())"
   ]
  },
  {
   "cell_type": "code",
   "execution_count": 34,
   "metadata": {},
   "outputs": [
    {
     "data": {
      "text/plain": [
       "[Synset('angiosperm.n.01')]"
      ]
     },
     "execution_count": 34,
     "metadata": {},
     "output_type": "execute_result"
    }
   ],
   "source": [
    "flower1 = wn.synset('flower.n.01')\n",
    "flower1.hypernyms()"
   ]
  },
  {
   "cell_type": "code",
   "execution_count": 35,
   "metadata": {},
   "outputs": [
    {
     "data": {
      "text/plain": [
       "[Synset('achimenes.n.01'),\n",
       " Synset('african_daisy.n.01'),\n",
       " Synset('african_daisy.n.02'),\n",
       " Synset('african_daisy.n.03'),\n",
       " Synset('african_violet.n.01'),\n",
       " Synset('ageratum.n.02'),\n",
       " Synset('ammobium.n.01'),\n",
       " Synset('anemone.n.01'),\n",
       " Synset('aster.n.01'),\n",
       " Synset('baby's_breath.n.01'),\n",
       " Synset('bartonia.n.01'),\n",
       " Synset('begonia.n.01'),\n",
       " Synset('bellwort.n.01'),\n",
       " Synset('billy_buttons.n.01'),\n",
       " Synset('blazing_star.n.01'),\n",
       " Synset('bloomer.n.01'),\n",
       " Synset('blue-eyed_african_daisy.n.01'),\n",
       " Synset('blue_daisy.n.01'),\n",
       " Synset('brass_buttons.n.01'),\n",
       " Synset('bush_violet.n.01'),\n",
       " Synset('butterfly_flower.n.01'),\n",
       " Synset('calceolaria.n.01'),\n",
       " Synset('calendula.n.01'),\n",
       " Synset('calla_lily.n.01'),\n",
       " Synset('candytuft.n.01'),\n",
       " Synset('cape_marigold.n.01'),\n",
       " Synset('carolina_spring_beauty.n.01'),\n",
       " Synset('catananche.n.01'),\n",
       " Synset('centaury.n.01'),\n",
       " Synset('china_aster.n.01'),\n",
       " Synset('christmas_bells.n.01'),\n",
       " Synset('chrysanthemum.n.02'),\n",
       " Synset('cineraria.n.01'),\n",
       " Synset('columbine.n.01'),\n",
       " Synset('commelina.n.01'),\n",
       " Synset('composite.n.02'),\n",
       " Synset('coneflower.n.01'),\n",
       " Synset('coneflower.n.03'),\n",
       " Synset('coral_drops.n.01'),\n",
       " Synset('cornflower.n.02'),\n",
       " Synset('corydalis.n.01'),\n",
       " Synset('cosmos.n.02'),\n",
       " Synset('cotton_rose.n.02'),\n",
       " Synset('cowherb.n.01'),\n",
       " Synset('cyclamen.n.01'),\n",
       " Synset('dahlia.n.01'),\n",
       " Synset('daisy.n.01'),\n",
       " Synset('damask_violet.n.01'),\n",
       " Synset('delphinium.n.01'),\n",
       " Synset('easter_daisy.n.01'),\n",
       " Synset('fig_marigold.n.01'),\n",
       " Synset('florest's_cineraria.n.01'),\n",
       " Synset('four_o'clock.n.01'),\n",
       " Synset('gazania.n.01'),\n",
       " Synset('gentian.n.01'),\n",
       " Synset('gerardia.n.01'),\n",
       " Synset('globe_amaranth.n.01'),\n",
       " Synset('heliophila.n.01'),\n",
       " Synset('horn_poppy.n.01'),\n",
       " Synset('kingfisher_daisy.n.01'),\n",
       " Synset('lace-flower_vine.n.01'),\n",
       " Synset('lesser_celandine.n.01'),\n",
       " Synset('lychnis.n.01'),\n",
       " Synset('malcolm_stock.n.01'),\n",
       " Synset('marigold.n.01'),\n",
       " Synset('mexican_sunflower.n.01'),\n",
       " Synset('mistflower.n.01'),\n",
       " Synset('nigella.n.01'),\n",
       " Synset('orchid.n.01'),\n",
       " Synset('oxeye_daisy.n.02'),\n",
       " Synset('painted_daisy.n.01'),\n",
       " Synset('peony.n.01'),\n",
       " Synset('petunia.n.01'),\n",
       " Synset('pheasant's-eye.n.01'),\n",
       " Synset('pink.n.02'),\n",
       " Synset('poppy.n.01'),\n",
       " Synset('portulaca.n.01'),\n",
       " Synset('prairie_rocket.n.01'),\n",
       " Synset('prairie_rocket.n.02'),\n",
       " Synset('red_valerian.n.01'),\n",
       " Synset('rocket_larkspur.n.01'),\n",
       " Synset('rue_anemone.n.01'),\n",
       " Synset('sandwort.n.01'),\n",
       " Synset('sandwort.n.02'),\n",
       " Synset('sandwort.n.03'),\n",
       " Synset('scabious.n.01'),\n",
       " Synset('scarlet_musk_flower.n.01'),\n",
       " Synset('schizopetalon.n.01'),\n",
       " Synset('scorpionweed.n.01'),\n",
       " Synset('shortia.n.01'),\n",
       " Synset('silene.n.01'),\n",
       " Synset('snapdragon.n.01'),\n",
       " Synset('soapwort.n.01'),\n",
       " Synset('sowbread.n.01'),\n",
       " Synset('spathiphyllum.n.01'),\n",
       " Synset('spring_beauty.n.01'),\n",
       " Synset('stock.n.12'),\n",
       " Synset('stokes'_aster.n.01'),\n",
       " Synset('streptocarpus.n.01'),\n",
       " Synset('sunflower.n.01'),\n",
       " Synset('swan_river_daisy.n.01'),\n",
       " Synset('sweet_alyssum.n.01'),\n",
       " Synset('sweet_sultan.n.02'),\n",
       " Synset('sweet_sultan.n.03'),\n",
       " Synset('texas_star.n.02'),\n",
       " Synset('tidytips.n.01'),\n",
       " Synset('toadflax.n.01'),\n",
       " Synset('tuberose.n.01'),\n",
       " Synset('umbrellawort.n.01'),\n",
       " Synset('ursinia.n.01'),\n",
       " Synset('valerian.n.01'),\n",
       " Synset('verbena.n.01'),\n",
       " Synset('veronica.n.01'),\n",
       " Synset('virginia_spring_beauty.n.01'),\n",
       " Synset('virginian_stock.n.01'),\n",
       " Synset('wallflower.n.01'),\n",
       " Synset('wallflower.n.02'),\n",
       " Synset('wandflower.n.01'),\n",
       " Synset('western_wall_flower.n.01'),\n",
       " Synset('white-topped_aster.n.01'),\n",
       " Synset('woodland_star.n.01'),\n",
       " Synset('xeranthemum.n.01'),\n",
       " Synset('zinnia.n.01')]"
      ]
     },
     "execution_count": 35,
     "metadata": {},
     "output_type": "execute_result"
    }
   ],
   "source": [
    "flower1.hyponyms()"
   ]
  },
  {
   "cell_type": "code",
   "execution_count": 36,
   "metadata": {},
   "outputs": [
    {
     "data": {
      "text/plain": [
       "[]"
      ]
     },
     "execution_count": 36,
     "metadata": {},
     "output_type": "execute_result"
    }
   ],
   "source": [
    "flower1.member_holonyms()"
   ]
  },
  {
   "cell_type": "code",
   "execution_count": 37,
   "metadata": {},
   "outputs": [
    {
     "data": {
      "text/plain": [
       "[Synset('entity.n.01')]"
      ]
     },
     "execution_count": 37,
     "metadata": {},
     "output_type": "execute_result"
    }
   ],
   "source": [
    "flower1.root_hypernyms()"
   ]
  },
  {
   "cell_type": "code",
   "execution_count": 39,
   "metadata": {},
   "outputs": [
    {
     "data": {
      "text/plain": [
       "[Synset('whole.n.02')]"
      ]
     },
     "execution_count": 39,
     "metadata": {},
     "output_type": "execute_result"
    }
   ],
   "source": [
    "flower1.lowest_common_hypernyms(wn.synset('car.n.01'))"
   ]
  },
  {
   "cell_type": "code",
   "execution_count": 40,
   "metadata": {},
   "outputs": [
    {
     "data": {
      "text/plain": [
       "[]"
      ]
     },
     "execution_count": 40,
     "metadata": {},
     "output_type": "execute_result"
    }
   ],
   "source": [
    "flower1.lemmas()[0].antonyms()"
   ]
  }
 ],
 "metadata": {
  "kernelspec": {
   "display_name": "Python 3",
   "language": "python",
   "name": "python3"
  },
  "language_info": {
   "codemirror_mode": {
    "name": "ipython",
    "version": 3
   },
   "file_extension": ".py",
   "mimetype": "text/x-python",
   "name": "python",
   "nbconvert_exporter": "python",
   "pygments_lexer": "ipython3",
   "version": "3.7.6"
  }
 },
 "nbformat": 4,
 "nbformat_minor": 2
}
