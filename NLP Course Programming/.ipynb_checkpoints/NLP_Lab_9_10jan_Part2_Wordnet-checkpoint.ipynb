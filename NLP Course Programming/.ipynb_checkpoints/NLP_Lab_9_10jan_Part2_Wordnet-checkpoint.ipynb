{
 "cells": [
  {
   "cell_type": "code",
   "execution_count": 1,
   "metadata": {},
   "outputs": [
    {
     "data": {
      "text/plain": [
       "[Synset('car.n.01')]"
      ]
     },
     "execution_count": 1,
     "metadata": {},
     "output_type": "execute_result"
    }
   ],
   "source": [
    "import nltk\n",
    "from nltk.corpus import wordnet as wn\n",
    "#WordNet is the lexical database i.e. dictionary for the English language, specifically designed for natural language processing\n",
    "\n",
    "#Synset is a special kind of a simple interface that is present in NLTK to look up words in WordNet. \n",
    "#Synset instances are the groupings of synonymous words that express the same concept. \n",
    "#Some of the words have only one Synset and some have several.\n",
    "#In simple words, Synset: a set of synonyms that share a common meaning.\n",
    "\n",
    "wn.synsets('motorcar') \n",
    "#wordnet.synsets(word) can be used to get a list of Synsets. \n",
    "#This list can be empty (if no such word is found) or can have few elements.\n",
    "#if you put mutiple here, it does not get printed"
   ]
  },
  {
   "cell_type": "code",
   "execution_count": 2,
   "metadata": {},
   "outputs": [
    {
     "data": {
      "text/plain": [
       "[Synset('cunning.s.01'), Synset('cute.s.02')]"
      ]
     },
     "execution_count": 2,
     "metadata": {},
     "output_type": "execute_result"
    }
   ],
   "source": [
    "wn.synsets('cute') "
   ]
  },
  {
   "cell_type": "code",
   "execution_count": 3,
   "metadata": {},
   "outputs": [
    {
     "data": {
      "text/plain": [
       "[Synset('flower.n.01'),\n",
       " Synset('flower.n.02'),\n",
       " Synset('flower.n.03'),\n",
       " Synset('bloom.v.01')]"
      ]
     },
     "execution_count": 3,
     "metadata": {},
     "output_type": "execute_result"
    }
   ],
   "source": [
    "wn.synsets('flower') "
   ]
  },
  {
   "cell_type": "code",
   "execution_count": 4,
   "metadata": {
    "scrolled": true
   },
   "outputs": [
    {
     "name": "stdout",
     "output_type": "stream",
     "text": [
      "flower\n",
      "flower\n",
      "bloom\n",
      "blossom\n",
      "flower\n",
      "prime\n",
      "peak\n",
      "heyday\n",
      "bloom\n",
      "blossom\n",
      "efflorescence\n",
      "flush\n",
      "bloom\n",
      "blossom\n",
      "flower\n"
     ]
    }
   ],
   "source": [
    "#Each synset contains one or more lemmas, which represent a specific sense of a specific word.\n",
    "for synset in wn.synsets('flower'):\n",
    "    for lemma in synset.lemmas(): #iterates through the lemmas for the synsets of flower\n",
    "        print(lemma.name()) #prints the names of the lemmas "
   ]
  },
  {
   "cell_type": "code",
   "execution_count": 5,
   "metadata": {},
   "outputs": [
    {
     "data": {
      "text/plain": [
       "[Synset('angiosperm.n.01')]"
      ]
     },
     "execution_count": 5,
     "metadata": {},
     "output_type": "execute_result"
    }
   ],
   "source": [
    "#Hypernyms: More abstract terms\n",
    "flower1 = wn.synset('flower.n.01')\n",
    "flower1.hypernyms() #provides the hypernyms of the the specific synset which is identified by the id"
   ]
  },
  {
   "cell_type": "code",
   "execution_count": 6,
   "metadata": {},
   "outputs": [
    {
     "data": {
      "text/plain": [
       "[Synset('entity.n.01')]"
      ]
     },
     "execution_count": 6,
     "metadata": {},
     "output_type": "execute_result"
    }
   ],
   "source": [
    "#We can also obtain a top level hypernym (in this case entity.n.01) and complete path of words it takes to get to it\n",
    "flower1.root_hypernyms()"
   ]
  },
  {
   "cell_type": "code",
   "execution_count": 7,
   "metadata": {},
   "outputs": [
    {
     "data": {
      "text/plain": [
       "['entity.n.01',\n",
       " 'physical_entity.n.01',\n",
       " 'object.n.01',\n",
       " 'whole.n.02',\n",
       " 'living_thing.n.01',\n",
       " 'organism.n.01',\n",
       " 'plant.n.02',\n",
       " 'vascular_plant.n.01',\n",
       " 'spermatophyte.n.01',\n",
       " 'angiosperm.n.01',\n",
       " 'flower.n.01']"
      ]
     },
     "execution_count": 7,
     "metadata": {},
     "output_type": "execute_result"
    }
   ],
   "source": [
    "#For complete path\n",
    "[synset.name() for synset in flower1.hypernym_paths()[0]]"
   ]
  },
  {
   "cell_type": "code",
   "execution_count": 8,
   "metadata": {},
   "outputs": [
    {
     "data": {
      "text/plain": [
       "[Synset('achimenes.n.01'),\n",
       " Synset('african_daisy.n.01'),\n",
       " Synset('african_daisy.n.02'),\n",
       " Synset('african_daisy.n.03'),\n",
       " Synset('african_violet.n.01'),\n",
       " Synset('ageratum.n.02'),\n",
       " Synset('ammobium.n.01'),\n",
       " Synset('anemone.n.01'),\n",
       " Synset('aster.n.01'),\n",
       " Synset('baby's_breath.n.01'),\n",
       " Synset('bartonia.n.01'),\n",
       " Synset('begonia.n.01'),\n",
       " Synset('bellwort.n.01'),\n",
       " Synset('billy_buttons.n.01'),\n",
       " Synset('blazing_star.n.01'),\n",
       " Synset('bloomer.n.01'),\n",
       " Synset('blue-eyed_african_daisy.n.01'),\n",
       " Synset('blue_daisy.n.01'),\n",
       " Synset('brass_buttons.n.01'),\n",
       " Synset('bush_violet.n.01'),\n",
       " Synset('butterfly_flower.n.01'),\n",
       " Synset('calceolaria.n.01'),\n",
       " Synset('calendula.n.01'),\n",
       " Synset('calla_lily.n.01'),\n",
       " Synset('candytuft.n.01'),\n",
       " Synset('cape_marigold.n.01'),\n",
       " Synset('carolina_spring_beauty.n.01'),\n",
       " Synset('catananche.n.01'),\n",
       " Synset('centaury.n.01'),\n",
       " Synset('china_aster.n.01'),\n",
       " Synset('christmas_bells.n.01'),\n",
       " Synset('chrysanthemum.n.02'),\n",
       " Synset('cineraria.n.01'),\n",
       " Synset('columbine.n.01'),\n",
       " Synset('commelina.n.01'),\n",
       " Synset('composite.n.02'),\n",
       " Synset('coneflower.n.01'),\n",
       " Synset('coneflower.n.03'),\n",
       " Synset('coral_drops.n.01'),\n",
       " Synset('cornflower.n.02'),\n",
       " Synset('corydalis.n.01'),\n",
       " Synset('cosmos.n.02'),\n",
       " Synset('cotton_rose.n.02'),\n",
       " Synset('cowherb.n.01'),\n",
       " Synset('cyclamen.n.01'),\n",
       " Synset('dahlia.n.01'),\n",
       " Synset('daisy.n.01'),\n",
       " Synset('damask_violet.n.01'),\n",
       " Synset('delphinium.n.01'),\n",
       " Synset('easter_daisy.n.01'),\n",
       " Synset('fig_marigold.n.01'),\n",
       " Synset('florest's_cineraria.n.01'),\n",
       " Synset('four_o'clock.n.01'),\n",
       " Synset('gazania.n.01'),\n",
       " Synset('gentian.n.01'),\n",
       " Synset('gerardia.n.01'),\n",
       " Synset('globe_amaranth.n.01'),\n",
       " Synset('heliophila.n.01'),\n",
       " Synset('horn_poppy.n.01'),\n",
       " Synset('kingfisher_daisy.n.01'),\n",
       " Synset('lace-flower_vine.n.01'),\n",
       " Synset('lesser_celandine.n.01'),\n",
       " Synset('lychnis.n.01'),\n",
       " Synset('malcolm_stock.n.01'),\n",
       " Synset('marigold.n.01'),\n",
       " Synset('mexican_sunflower.n.01'),\n",
       " Synset('mistflower.n.01'),\n",
       " Synset('nigella.n.01'),\n",
       " Synset('orchid.n.01'),\n",
       " Synset('oxeye_daisy.n.02'),\n",
       " Synset('painted_daisy.n.01'),\n",
       " Synset('peony.n.01'),\n",
       " Synset('petunia.n.01'),\n",
       " Synset('pheasant's-eye.n.01'),\n",
       " Synset('pink.n.02'),\n",
       " Synset('poppy.n.01'),\n",
       " Synset('portulaca.n.01'),\n",
       " Synset('prairie_rocket.n.01'),\n",
       " Synset('prairie_rocket.n.02'),\n",
       " Synset('red_valerian.n.01'),\n",
       " Synset('rocket_larkspur.n.01'),\n",
       " Synset('rue_anemone.n.01'),\n",
       " Synset('sandwort.n.01'),\n",
       " Synset('sandwort.n.02'),\n",
       " Synset('sandwort.n.03'),\n",
       " Synset('scabious.n.01'),\n",
       " Synset('scarlet_musk_flower.n.01'),\n",
       " Synset('schizopetalon.n.01'),\n",
       " Synset('scorpionweed.n.01'),\n",
       " Synset('shortia.n.01'),\n",
       " Synset('silene.n.01'),\n",
       " Synset('snapdragon.n.01'),\n",
       " Synset('soapwort.n.01'),\n",
       " Synset('sowbread.n.01'),\n",
       " Synset('spathiphyllum.n.01'),\n",
       " Synset('spring_beauty.n.01'),\n",
       " Synset('stock.n.12'),\n",
       " Synset('stokes'_aster.n.01'),\n",
       " Synset('streptocarpus.n.01'),\n",
       " Synset('sunflower.n.01'),\n",
       " Synset('swan_river_daisy.n.01'),\n",
       " Synset('sweet_alyssum.n.01'),\n",
       " Synset('sweet_sultan.n.02'),\n",
       " Synset('sweet_sultan.n.03'),\n",
       " Synset('texas_star.n.02'),\n",
       " Synset('tidytips.n.01'),\n",
       " Synset('toadflax.n.01'),\n",
       " Synset('tuberose.n.01'),\n",
       " Synset('umbrellawort.n.01'),\n",
       " Synset('ursinia.n.01'),\n",
       " Synset('valerian.n.01'),\n",
       " Synset('verbena.n.01'),\n",
       " Synset('veronica.n.01'),\n",
       " Synset('virginia_spring_beauty.n.01'),\n",
       " Synset('virginian_stock.n.01'),\n",
       " Synset('wallflower.n.01'),\n",
       " Synset('wallflower.n.02'),\n",
       " Synset('wandflower.n.01'),\n",
       " Synset('western_wall_flower.n.01'),\n",
       " Synset('white-topped_aster.n.01'),\n",
       " Synset('woodland_star.n.01'),\n",
       " Synset('xeranthemum.n.01'),\n",
       " Synset('zinnia.n.01')]"
      ]
     },
     "execution_count": 8,
     "metadata": {},
     "output_type": "execute_result"
    }
   ],
   "source": [
    "#Hyponyms: More specific terms\n",
    "flower1.hyponyms() #provides the hyponyms of the the specific synset which is identified by the id"
   ]
  },
  {
   "cell_type": "code",
   "execution_count": 9,
   "metadata": {},
   "outputs": [
    {
     "data": {
      "text/plain": [
       "[]"
      ]
     },
     "execution_count": 9,
     "metadata": {},
     "output_type": "execute_result"
    }
   ],
   "source": [
    "#Meronyms and Holonyms represent the part-whole relationship. \n",
    "#The meronym represents the part and the holonym represents the whole.\n",
    "#Holonym — denotes a membership to something\n",
    "flower1.member_holonyms() "
   ]
  },
  {
   "cell_type": "code",
   "execution_count": 10,
   "metadata": {},
   "outputs": [
    {
     "data": {
      "text/plain": [
       "[Synset('whole.n.02')]"
      ]
     },
     "execution_count": 10,
     "metadata": {},
     "output_type": "execute_result"
    }
   ],
   "source": [
    "flower1.lowest_common_hypernyms(wn.synset('car.n.01')) #provides the least common hypernym that flower1 has with the other synset we are giving"
   ]
  },
  {
   "cell_type": "code",
   "execution_count": 11,
   "metadata": {},
   "outputs": [
    {
     "data": {
      "text/plain": [
       "[]"
      ]
     },
     "execution_count": 11,
     "metadata": {},
     "output_type": "execute_result"
    }
   ],
   "source": [
    "flower1.lemmas()[0].antonyms() #provides antonyms of the first lemma of the flower1 synset"
   ]
  }
 ],
 "metadata": {
  "kernelspec": {
   "display_name": "Python 3",
   "language": "python",
   "name": "python3"
  },
  "language_info": {
   "codemirror_mode": {
    "name": "ipython",
    "version": 3
   },
   "file_extension": ".py",
   "mimetype": "text/x-python",
   "name": "python",
   "nbconvert_exporter": "python",
   "pygments_lexer": "ipython3",
   "version": "3.7.6"
  }
 },
 "nbformat": 4,
 "nbformat_minor": 2
}
