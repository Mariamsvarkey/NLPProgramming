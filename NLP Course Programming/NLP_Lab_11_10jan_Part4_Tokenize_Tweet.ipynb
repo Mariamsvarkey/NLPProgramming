{
 "cells": [
  {
   "cell_type": "code",
   "execution_count": 1,
   "metadata": {},
   "outputs": [
    {
     "data": {
      "text/plain": [
       "['The', 'Party', 'was', 'sooooooooo', 'fun', ':D', '#superfun', '!', '!', '!']"
      ]
     },
     "execution_count": 1,
     "metadata": {},
     "output_type": "execute_result"
    }
   ],
   "source": [
    "import nltk\n",
    "from nltk.tokenize import TweetTokenizer\n",
    "text = 'The Party was sooooooooo fun :D #superfun !!!'\n",
    "twtkn = TweetTokenizer() #this is a tokenizer for tweets\n",
    "twtkn.tokenize(text)"
   ]
  },
  {
   "cell_type": "code",
   "execution_count": 2,
   "metadata": {},
   "outputs": [
    {
     "data": {
      "text/plain": [
       "['The', 'Party', 'was', 'sooo', 'fun', ':D', '#superfun', '!', '!', '!']"
      ]
     },
     "execution_count": 2,
     "metadata": {},
     "output_type": "execute_result"
    }
   ],
   "source": [
    "twtkn = TweetTokenizer(strip_handles=True, reduce_len=True) #this is a modified Tweet Tokenizer\n",
    "twtkn.tokenize(text) "
   ]
  },
  {
   "cell_type": "code",
   "execution_count": 3,
   "metadata": {},
   "outputs": [
    {
     "data": {
      "text/plain": [
       "['The',\n",
       " 'Party',\n",
       " 'was',\n",
       " 'sooooooooo',\n",
       " 'fun',\n",
       " ':',\n",
       " 'D',\n",
       " '#',\n",
       " 'superfun',\n",
       " '!',\n",
       " '!',\n",
       " '!']"
      ]
     },
     "execution_count": 3,
     "metadata": {},
     "output_type": "execute_result"
    }
   ],
   "source": [
    "#tokenize withn normal word tokenizer\n",
    "tokens = nltk.word_tokenize(text) #splits the text into separate words\n",
    "tokens"
   ]
  },
  {
   "cell_type": "code",
   "execution_count": 4,
   "metadata": {},
   "outputs": [
    {
     "data": {
      "text/plain": [
       "[('The', 'DT'),\n",
       " ('Party', 'NNP'),\n",
       " ('was', 'VBD'),\n",
       " ('sooooooooo', 'JJ'),\n",
       " ('fun', 'NN'),\n",
       " (':', ':')]"
      ]
     },
     "execution_count": 4,
     "metadata": {},
     "output_type": "execute_result"
    }
   ],
   "source": [
    "tagged = nltk.pos_tag(tokens) #stores the tokens along with the POS tag\n",
    "tagged[0:6] #prints the first 6 items in tagged"
   ]
  }
 ],
 "metadata": {
  "kernelspec": {
   "display_name": "Python 3",
   "language": "python",
   "name": "python3"
  },
  "language_info": {
   "codemirror_mode": {
    "name": "ipython",
    "version": 3
   },
   "file_extension": ".py",
   "mimetype": "text/x-python",
   "name": "python",
   "nbconvert_exporter": "python",
   "pygments_lexer": "ipython3",
   "version": "3.7.6"
  }
 },
 "nbformat": 4,
 "nbformat_minor": 2
}
