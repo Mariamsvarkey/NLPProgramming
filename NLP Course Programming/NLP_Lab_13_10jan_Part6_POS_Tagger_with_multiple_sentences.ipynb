{
 "cells": [
  {
   "cell_type": "code",
   "execution_count": 1,
   "metadata": {},
   "outputs": [],
   "source": [
    "import nltk\n",
    "from nltk import *"
   ]
  },
  {
   "cell_type": "code",
   "execution_count": 2,
   "metadata": {},
   "outputs": [],
   "source": [
    "texts = \"\"\"A friend class in C++ can access the private and protected members of the class in which it is declared as a friend. A significant use of a friend class is for a part of a data structure, represented by a class, to provide access to the main class representing that data structure. The friend class mechanism allows to extend the storage and access to the parts, while retaining proper encapsulation as seen by the users of the data structure.\"\"\" \n",
    "#triple quotes allows the strings to span multiple lines"
   ]
  },
  {
   "cell_type": "code",
   "execution_count": 3,
   "metadata": {},
   "outputs": [
    {
     "name": "stdout",
     "output_type": "stream",
     "text": [
      "[('A', 'DT'), ('friend', 'NN'), ('class', 'NN'), ('in', 'IN'), ('C++', 'NNP'), ('can', 'MD'), ('access', 'NN'), ('the', 'DT'), ('private', 'JJ'), ('and', 'CC'), ('protected', 'JJ'), ('members', 'NNS'), ('of', 'IN'), ('the', 'DT'), ('class', 'NN'), ('in', 'IN'), ('which', 'WDT'), ('it', 'PRP'), ('is', 'VBZ'), ('declared', 'VBN'), ('as', 'IN'), ('a', 'DT'), ('friend', 'NN'), ('.', '.')]\n",
      "[('A', 'DT'), ('significant', 'JJ'), ('use', 'NN'), ('of', 'IN'), ('a', 'DT'), ('friend', 'NN'), ('class', 'NN'), ('is', 'VBZ'), ('for', 'IN'), ('a', 'DT'), ('part', 'NN'), ('of', 'IN'), ('a', 'DT'), ('data', 'NN'), ('structure', 'NN'), (',', ','), ('represented', 'VBN'), ('by', 'IN'), ('a', 'DT'), ('class', 'NN'), (',', ','), ('to', 'TO'), ('provide', 'VB'), ('access', 'NN'), ('to', 'TO'), ('the', 'DT'), ('main', 'JJ'), ('class', 'NN'), ('representing', 'VBG'), ('that', 'IN'), ('data', 'NN'), ('structure', 'NN'), ('.', '.')]\n",
      "[('The', 'DT'), ('friend', 'NN'), ('class', 'NN'), ('mechanism', 'NN'), ('allows', 'VBZ'), ('to', 'TO'), ('extend', 'VB'), ('the', 'DT'), ('storage', 'NN'), ('and', 'CC'), ('access', 'NN'), ('to', 'TO'), ('the', 'DT'), ('parts', 'NNS'), (',', ','), ('while', 'IN'), ('retaining', 'VBG'), ('proper', 'JJ'), ('encapsulation', 'NN'), ('as', 'IN'), ('seen', 'VBN'), ('by', 'IN'), ('the', 'DT'), ('users', 'NNS'), ('of', 'IN'), ('the', 'DT'), ('data', 'NN'), ('structure', 'NN'), ('.', '.')]\n"
     ]
    }
   ],
   "source": [
    "sentences = nltk.sent_tokenize(texts) #splits texts into sentences\n",
    "for sentence in sentences:\n",
    "        words = nltk.word_tokenize(sentence) #splits the sentence into a list of words \n",
    "        tagged_words = nltk.pos_tag(words) #stores a list of tokens along with its POS tag\n",
    "        print(tagged_words)"
   ]
  }
 ],
 "metadata": {
  "kernelspec": {
   "display_name": "Python 3",
   "language": "python",
   "name": "python3"
  },
  "language_info": {
   "codemirror_mode": {
    "name": "ipython",
    "version": 3
   },
   "file_extension": ".py",
   "mimetype": "text/x-python",
   "name": "python",
   "nbconvert_exporter": "python",
   "pygments_lexer": "ipython3",
   "version": "3.7.6"
  }
 },
 "nbformat": 4,
 "nbformat_minor": 2
}
