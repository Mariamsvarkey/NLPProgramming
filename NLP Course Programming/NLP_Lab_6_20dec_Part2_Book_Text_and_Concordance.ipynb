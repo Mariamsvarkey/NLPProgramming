{
 "cells": [
  {
   "cell_type": "code",
   "execution_count": 1,
   "metadata": {},
   "outputs": [],
   "source": [
    "import nltk"
   ]
  },
  {
   "cell_type": "code",
   "execution_count": 3,
   "metadata": {},
   "outputs": [
    {
     "name": "stdout",
     "output_type": "stream",
     "text": [
      "*** Introductory Examples for the NLTK Book ***\n",
      "Loading text1, ..., text9 and sent1, ..., sent9\n",
      "Type the name of the text or sentence to view it.\n",
      "Type: 'texts()' or 'sents()' to list the materials.\n",
      "text1: Moby Dick by Herman Melville 1851\n",
      "text2: Sense and Sensibility by Jane Austen 1811\n",
      "text3: The Book of Genesis\n",
      "text4: Inaugural Address Corpus\n",
      "text5: Chat Corpus\n",
      "text6: Monty Python and the Holy Grail\n",
      "text7: Wall Street Journal\n",
      "text8: Personals Corpus\n",
      "text9: The Man Who Was Thursday by G . K . Chesterton 1908\n"
     ]
    }
   ],
   "source": [
    "from nltk.book import *"
   ]
  },
  {
   "cell_type": "code",
   "execution_count": 5,
   "metadata": {},
   "outputs": [],
   "source": [
    "f=open('C:/Users/Maria/Downloads/MASC-3.0.0/MASC-3.0.0/data/written/twitter/tweets1.txt','r')"
   ]
  },
  {
   "cell_type": "code",
   "execution_count": 6,
   "metadata": {},
   "outputs": [],
   "source": [
    "text = f.read()"
   ]
  },
  {
   "cell_type": "code",
   "execution_count": 7,
   "metadata": {},
   "outputs": [],
   "source": [
    "text1 = text.split()"
   ]
  },
  {
   "cell_type": "code",
   "execution_count": 8,
   "metadata": {},
   "outputs": [],
   "source": [
    "text2 = nltk.Text(text1)"
   ]
  },
  {
   "cell_type": "code",
   "execution_count": 13,
   "metadata": {
    "scrolled": true
   },
   "outputs": [
    {
     "name": "stdout",
     "output_type": "stream",
     "text": [
      "Displaying 25 of 265 matches:\n",
      "ering if I should quit work and become a monk who secretly writes serial murder\n",
      "o twitter. Am so going to bed now have a long day tomorrow Mmmmm quad venti car\n",
      "aramel macciato with extra caramel and a shot of vanilla In shaw looking for fa\n",
      "!! Yeah!!! japanese I am backstage for a large concert. Get to watch video prod\n",
      "e in at work, wow i haven't updated in a while...oops! Discovering twitter in a\n",
      "a while...oops! Discovering twitter in a purple sofa... Why isn't Wii released \n",
      "ne's. There is no great genius without a drop of madness, amigo. Why are you in\n",
      "drop of madness, amigo. Why are you in a motorized wheelchair?! So I guess it i\n",
      "y jacks... Train's backseat,windowside a babushka:chubby,middleaged,lilac heads\n",
      "osting an advert to gumtree.com to let a very big room in my house in London E5\n",
      "ll inc). Posted ad for room url Posted a website about my room in London for le\n",
      " url and considering if I should watch a couple of episodes of Heroes or rock b\n",
      " episodes of Heroes on url after doing a spot of food shopping (Baby is sleepin\n",
      "ystal Reports using Property data from a Progress Database and thinking about m\n",
      "ing my hoop-spanner, of course. Eating a croissant and going through my emails \n",
      "on Hype Machine url and url Also doing a Ruby on Rails spreadsheet for Building\n",
      "ty probably take all day. url Going to a meeting on Israel at the British Red C\n",
      "Israel at the British Red Cross Adding a filter to my Ruby on Rails spreadsheet\n",
      "ike breas Reading about childbirth.Its a messy business alright.I think I shall\n",
      "d by hiking in Conta Costa. . . Adding a filter to my Ajax Scaffold page on Rub\n",
      "athy Freeman and Luke Carrol embark on a 3000km odyssey. Tonight, a big outback\n",
      "l embark on a 3000km odyssey. Tonight, a big outback party in Hermannsburg. THE\n",
      "HE MIGHTY BOOSH, 10:05pm: Howard hooks a grotesque \"man-fish\" covered in seawee\n",
      "aOm-twitters are kicking this thing up a notch. . I'm still sticking to poetic \n",
      "wered, and ready for Tuesday. Enjoying a Con Law lecture. Listening to Armstron\n"
     ]
    }
   ],
   "source": [
    "text2.concordance(\"a\") #NLTK provides the function concordance() to locate and print series of phrases that contain the keyword."
   ]
  },
  {
   "cell_type": "code",
   "execution_count": 14,
   "metadata": {},
   "outputs": [
    {
     "name": "stdout",
     "output_type": "stream",
     "text": [
      "Displaying 2 of 2 matches:\n",
      "they allow me to see the future: on monday morning you will feel ill. Also my \n",
      "tball by watching the scintillating Monday Night Football Game. :) showing my \n"
     ]
    }
   ],
   "source": [
    "text2.concordance(\"Monday\")"
   ]
  },
  {
   "cell_type": "code",
   "execution_count": 15,
   "metadata": {
    "scrolled": true
   },
   "outputs": [
    {
     "name": "stdout",
     "output_type": "stream",
     "text": [
      "no matches\n"
     ]
    }
   ],
   "source": [
    "text2.concordance(\" \")"
   ]
  }
 ],
 "metadata": {
  "kernelspec": {
   "display_name": "Python 3",
   "language": "python",
   "name": "python3"
  },
  "language_info": {
   "codemirror_mode": {
    "name": "ipython",
    "version": 3
   },
   "file_extension": ".py",
   "mimetype": "text/x-python",
   "name": "python",
   "nbconvert_exporter": "python",
   "pygments_lexer": "ipython3",
   "version": "3.7.6"
  }
 },
 "nbformat": 4,
 "nbformat_minor": 2
}
