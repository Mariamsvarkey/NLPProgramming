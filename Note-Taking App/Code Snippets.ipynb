{
 "cells": [
  {
   "cell_type": "code",
   "execution_count": 2,
   "metadata": {},
   "outputs": [],
   "source": [
    "#This is the code for the innovative note-taking app\n",
    "#Some of the code is given below"
   ]
  },
  {
   "cell_type": "code",
   "execution_count": 3,
   "metadata": {},
   "outputs": [
    {
     "name": "stdout",
     "output_type": "stream",
     "text": [
      "['NLP DA due on 31st Jan 2020.', 'Hello.', 'Hi']\n"
     ]
    }
   ],
   "source": [
    "# custom prefix\n",
    "import re\n",
    "from spacy.tokenizer import Tokenizer\n",
    "from spacy.lang.en import English\n",
    "nlp = English()\n",
    "nlp.add_pipe(nlp.create_pipe('sentencizer')) # updated\n",
    "\n",
    "def create_custom_tokenizer(nlp):\n",
    "\n",
    "    prefix_re = re.compile(r'^NLP')\n",
    "    \n",
    "    return Tokenizer(nlp.vocab, prefix_search = prefix_re.search)\n",
    "doc = nlp(r\"NLP DA due on 31st Jan 2020. Hello. Hi\")\n",
    "sentences = [sent.string.strip() for sent in doc.sents]\n",
    "print(sentences)"
   ]
  },
  {
   "cell_type": "code",
   "execution_count": 4,
   "metadata": {},
   "outputs": [
    {
     "name": "stdout",
     "output_type": "stream",
     "text": [
      "14815333778662080635 subject_nlp 0 1 NLP\n",
      "14815333778662080635 subject_nlp 15 16 nlp\n",
      "17157488710739566268 now 24 25 urgent\n"
     ]
    }
   ],
   "source": [
    "#specifying phrases and executing the code to see the program recognize sentences that start with the phrases specifiied\n",
    "import re\n",
    "import spacy\n",
    "nlp = spacy.load('en_core_web_sm')\n",
    "from spacy.matcher import Matcher\n",
    "m_tool = Matcher(nlp.vocab)\n",
    "p1 = [{'LOWER': 'NLP'}]\n",
    "p2 = [{'LOWER': 'nlp'}]\n",
    "m_tool.add('subject_nlp', None, p1, p2)\n",
    "sentence = nlp(u'NLP DA is due on 31st Jan 2020. Hello, whats up? nlp is cool. Urgent buy biscuits. not urgent')\n",
    "phrase_matches = m_tool(sentence)\n",
    "for match_id, start, end in phrase_matches:\n",
    "    string_id = nlp.vocab.strings[match_id]  \n",
    "    span = sentence[start:end]                   \n",
    "    print(match_id, string_id, start, end, span.text)\n",
    "from spacy.matcher import PhraseMatcher\n",
    "phrase_matcher = PhraseMatcher(nlp.vocab)\n",
    "phrases = ['important', 'urgent', 'immediate']\n",
    "patterns = [nlp(text) for text in phrases]\n",
    "phrase_matcher.add('now', None, *patterns)\n",
    "matched_phrases = phrase_matcher(sentence)\n",
    "for match_id, start, end in matched_phrases:\n",
    "    string_id = nlp.vocab.strings[match_id]  \n",
    "    span = sentence[start:end]                   \n",
    "    print(match_id, string_id, start, end, span.text)"
   ]
  }
 ],
 "metadata": {
  "kernelspec": {
   "display_name": "Python 3",
   "language": "python",
   "name": "python3"
  },
  "language_info": {
   "codemirror_mode": {
    "name": "ipython",
    "version": 3
   },
   "file_extension": ".py",
   "mimetype": "text/x-python",
   "name": "python",
   "nbconvert_exporter": "python",
   "pygments_lexer": "ipython3",
   "version": "3.7.3"
  }
 },
 "nbformat": 4,
 "nbformat_minor": 2
}
