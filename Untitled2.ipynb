{
 "cells": [
  {
   "cell_type": "code",
   "execution_count": 1,
   "metadata": {},
   "outputs": [],
   "source": [
    "import spacy"
   ]
  },
  {
   "cell_type": "code",
   "execution_count": 2,
   "metadata": {},
   "outputs": [
    {
     "name": "stdout",
     "output_type": "stream",
     "text": [
      "Requirement already satisfied: spacy in c:\\users\\maria\\anaconda3\\lib\\site-packages\n",
      "Requirement already satisfied: wasabi<1.1.0,>=0.2.0 in c:\\users\\maria\\anaconda3\\lib\\site-packages (from spacy)\n",
      "Requirement already satisfied: thinc<7.2.0,>=7.1.1 in c:\\users\\maria\\anaconda3\\lib\\site-packages (from spacy)\n",
      "Requirement already satisfied: preshed<3.1.0,>=3.0.2 in c:\\users\\maria\\anaconda3\\lib\\site-packages (from spacy)\n",
      "Requirement already satisfied: numpy>=1.15.0 in c:\\users\\maria\\anaconda3\\lib\\site-packages (from spacy)\n",
      "Requirement already satisfied: plac<1.0.0,>=0.9.6 in c:\\users\\maria\\anaconda3\\lib\\site-packages (from spacy)\n",
      "Requirement already satisfied: requests<3.0.0,>=2.13.0 in c:\\users\\maria\\anaconda3\\lib\\site-packages (from spacy)\n",
      "Requirement already satisfied: blis<0.5.0,>=0.4.0 in c:\\users\\maria\\anaconda3\\lib\\site-packages (from spacy)\n",
      "Requirement already satisfied: murmurhash<1.1.0,>=0.28.0 in c:\\users\\maria\\anaconda3\\lib\\site-packages (from spacy)\n",
      "Requirement already satisfied: srsly<1.1.0,>=0.1.0 in c:\\users\\maria\\anaconda3\\lib\\site-packages (from spacy)\n",
      "Requirement already satisfied: cymem<2.1.0,>=2.0.2 in c:\\users\\maria\\anaconda3\\lib\\site-packages (from spacy)\n",
      "Requirement already satisfied: tqdm<5.0.0,>=4.10.0 in c:\\users\\maria\\anaconda3\\lib\\site-packages (from thinc<7.2.0,>=7.1.1->spacy)\n",
      "Requirement already satisfied: idna<2.9,>=2.5 in c:\\users\\maria\\anaconda3\\lib\\site-packages (from requests<3.0.0,>=2.13.0->spacy)\n",
      "Requirement already satisfied: certifi>=2017.4.17 in c:\\users\\maria\\anaconda3\\lib\\site-packages (from requests<3.0.0,>=2.13.0->spacy)\n",
      "Requirement already satisfied: chardet<3.1.0,>=3.0.2 in c:\\users\\maria\\anaconda3\\lib\\site-packages (from requests<3.0.0,>=2.13.0->spacy)\n",
      "Requirement already satisfied: urllib3!=1.25.0,!=1.25.1,<1.26,>=1.21.1 in c:\\users\\maria\\anaconda3\\lib\\site-packages (from requests<3.0.0,>=2.13.0->spacy)\n"
     ]
    },
    {
     "name": "stderr",
     "output_type": "stream",
     "text": [
      "You are using pip version 9.0.3, however version 20.0.2 is available.\n",
      "You should consider upgrading via the 'python -m pip install --upgrade pip' command.\n"
     ]
    },
    {
     "name": "stdout",
     "output_type": "stream",
     "text": [
      "Note: you may need to restart the kernel to use updated packages.\n"
     ]
    }
   ],
   "source": [
    "pip install spacy"
   ]
  },
  {
   "cell_type": "code",
   "execution_count": 3,
   "metadata": {},
   "outputs": [],
   "source": [
    "import en_core_web_sm\n",
    "nlp = en_core_web_sm.load()"
   ]
  },
  {
   "cell_type": "code",
   "execution_count": 5,
   "metadata": {},
   "outputs": [
    {
     "name": "stdout",
     "output_type": "stream",
     "text": [
      "Alibaba PROPN poss Alibaba NNP Xxxxx True False\n",
      "'s PART case 's POS 'x False True\n",
      "Ant PROPN nmod Ant NNP Xxx True False\n",
      "Financial PROPN npadvmod Financial NNP Xxxxx True False\n",
      "- PUNCT punct - HYPH - False False\n",
      "backed VERB amod back VBN xxxx True False\n",
      "online ADJ amod online JJ xxxx True False\n",
      "food NOUN compound food NN xxxx True False\n",
      "delivery NOUN nmod delivery NN xxxx True False\n",
      "and CCONJ cc and CC xxx True True\n",
      "restaurant NOUN conj restaurant NN xxxx True False\n",
      "discovery NOUN compound discovery NN xxxx True False\n",
      "platform NOUN compound platform NN xxxx True False\n",
      "Zomato PROPN nsubj Zomato NNP Xxxxx True False\n",
      "has AUX aux have VBZ xxx True True\n",
      "acquired VERB ROOT acquire VBN xxxx True False\n",
      "Uber PROPN compound Uber NNP Xxxx True False\n",
      "Eats NOUN dobj eat NNS Xxxx True False\n",
      ", PUNCT punct , , , False False\n",
      "the DET det the DT xxx True True\n",
      "food NOUN compound food NN xxxx True False\n",
      "delivery NOUN compound delivery NN xxxx True False\n",
      "business NOUN appos business NN xxxx True False\n",
      "of ADP prep of IN xx True True\n",
      "ride NOUN npadvmod ride NN xxxx True False\n",
      "- PUNCT punct - HYPH - False False\n",
      "hailing VERB amod hail VBG xxxx True False\n",
      "giant NOUN compound giant NN xxxx True False\n",
      "Uber PROPN compound Uber NNP Xxxx True False\n",
      "India PROPN pobj India NNP Xxxxx True False\n",
      "for ADP prep for IN xxx True True\n",
      "around ADP pobj around IN xxxx True True\n",
      "Rs NOUN quantmod r NNS Xx True False\n",
      "2,485 NUM nummod 2,485 CD d,ddd False False\n",
      "crore NOUN pobj crore NN xxxx True False\n",
      "( PUNCT punct ( -LRB- ( False False\n",
      "$ SYM quantmod $ $ $ False False\n",
      "350 NUM compound 350 CD ddd False False\n",
      "million NUM appos million CD xxxx True False\n",
      ") PUNCT punct ) -RRB- ) False False\n",
      "in ADP prep in IN xx True True\n",
      "an DET det an DT xx True True\n",
      "all DET det all DT xxx True True\n",
      "- PUNCT punct - HYPH - False False\n",
      "stock NOUN compound stock NN xxxx True False\n",
      "deal NOUN pobj deal NN xxxx True False\n",
      ". PUNCT punct . . . False False\n",
      "The DET det the DT Xxx True True\n",
      "deal NOUN nsubj deal NN xxxx True False\n",
      "gives VERB ROOT give VBZ xxxx True False\n",
      "the DET det the DT xxx True True\n",
      "ride NOUN compound ride NN xxxx True False\n",
      "- PUNCT punct - HYPH - False False\n",
      "hailing VERB amod hail VBG xxxx True False\n",
      "app NOUN dative app NN xxx True False\n",
      "a DET det a DT x True True\n",
      "10 NUM nummod 10 CD dd False False\n",
      "per ADP nmod per IN xxx True True\n",
      "cent NOUN compound cent NN xxxx True False\n",
      "stake NOUN dobj stake NN xxxx True False\n",
      "in ADP prep in IN xx True True\n",
      "Zomato PROPN pobj Zomato NNP Xxxxx True False\n",
      ". PUNCT punct . . . False False\n",
      "Notably ADV advmod notably RB Xxxxx True False\n",
      ", PUNCT punct , , , False False\n",
      "Zomato PROPN nsubj Zomato NNP Xxxxx True False\n",
      "will AUX aux will MD xxxx True True\n",
      "not PART neg not RB xxx True True\n",
      "absorb VERB ROOT absorb VB xxxx True False\n",
      "Uber PROPN compound Uber NNP Xxxx True False\n",
      "Eat VERB compound eat VB Xxx True False\n",
      "employees NOUN dobj employee NNS xxxx True False\n",
      ", PUNCT punct , , , False False\n",
      "which PRON nsubj which WDT xxxx True True\n",
      "means VERB relcl mean VBZ xxxx True False\n",
      "they PRON nsubjpass -PRON- PRP xxxx True True\n",
      "will AUX aux will MD xxxx True True\n",
      "either CCONJ preconj either CC xxxx True True\n",
      "be AUX auxpass be VB xx True True\n",
      "absorbed VERB ccomp absorb VBN xxxx True False\n",
      "in ADP prep in IN xx True True\n",
      "Uber PROPN poss Uber NNP Xxxx True False\n",
      "'s PART case 's POS 'x False True\n",
      "other ADJ amod other JJ xxxx True True\n",
      "verticals NOUN pobj vertical NNS xxxx True False\n",
      "or CCONJ cc or CC xx True True\n",
      "could AUX aux could MD xxxx True True\n",
      "face VERB conj face VB xxxx True False\n",
      "lay VERB compound lay VB xxx True False\n",
      "- PUNCT punct - HYPH - False False\n",
      "off NOUN dobj off NN xxx True True\n",
      ". PUNCT punct . . . False False\n",
      "There PRON expl there EX Xxxxx True True\n",
      "'s AUX ROOT be VBZ 'x False True\n",
      "little ADJ amod little JJ xxxx True False\n",
      "clarity NOUN attr clarity NN xxxx True False\n",
      "on ADP prep on IN xx True True\n",
      "their PRON poss -PRON- PRP$ xxxx True True\n",
      "future ADJ amod future JJ xxxx True False\n",
      "roles NOUN pobj role NNS xxxx True False\n",
      "right ADV advmod right RB xxxx True False\n",
      "now ADV advmod now RB xxx True True\n",
      ". PUNCT punct . . . False False\n"
     ]
    }
   ],
   "source": [
    "para = nlp(\"Alibaba's Ant Financial-backed online food delivery and restaurant discovery platform Zomato has acquired Uber Eats, the food delivery business of ride-hailing giant Uber India for around Rs 2,485 crore ($350 million) in an all-stock deal. The deal gives the ride-hailing app a 10 per cent stake in Zomato. Notably, Zomato will not absorb Uber Eat employees, which means they will either be absorbed in Uber's other verticals or could face lay-off. There's little clarity on their future roles right now.\")\n",
    "for words in para:\n",
    "    print(words.text, words.pos_, words.dep_, words.lemma_, words.tag_, words.shape_, words.is_alpha, words.is_stop)"
   ]
  },
  {
   "cell_type": "code",
   "execution_count": 6,
   "metadata": {},
   "outputs": [
    {
     "name": "stdout",
     "output_type": "stream",
     "text": [
      "Alibaba 0 7 GPE\n",
      "Ant Financial 10 23 ORG\n",
      "Zomato 86 92 PERSON\n",
      "Uber Eats 106 115 ORG\n",
      "Uber India 166 176 ORG\n",
      "Rs 2,485 188 196 PRODUCT\n",
      "$350 million 204 216 MONEY\n",
      "10 per cent 278 289 MONEY\n",
      "Zomato 299 305 GPE\n",
      "Zomato 316 322 PERSON\n",
      "Uber Eat 339 347 ORG\n",
      "Uber 403 407 DATE\n"
     ]
    }
   ],
   "source": [
    "for entities in para.ents:\n",
    "    print(entities.text, entities.start_char, entities.end_char, entities.label_)"
   ]
  },
  {
   "cell_type": "code",
   "execution_count": null,
   "metadata": {},
   "outputs": [],
   "source": [
    "for token in doc:\n",
    "    print(token.text, token.has_vector, token.vector_norm, token.is_oov)"
   ]
  },
  {
   "cell_type": "code",
   "execution_count": null,
   "metadata": {},
   "outputs": [],
   "source": [
    "print(doc.vocab.strings[\"unique\"])  # 3197928453018144401"
   ]
  }
 ],
 "metadata": {
  "kernelspec": {
   "display_name": "Python 3",
   "language": "python",
   "name": "python3"
  },
  "language_info": {
   "codemirror_mode": {
    "name": "ipython",
    "version": 3
   },
   "file_extension": ".py",
   "mimetype": "text/x-python",
   "name": "python",
   "nbconvert_exporter": "python",
   "pygments_lexer": "ipython3",
   "version": "3.7.3"
  }
 },
 "nbformat": 4,
 "nbformat_minor": 2
}
